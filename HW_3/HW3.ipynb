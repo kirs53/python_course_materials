{
  "nbformat": 4,
  "nbformat_minor": 0,
  "metadata": {
    "colab": {
      "provenance": []
    },
    "kernelspec": {
      "name": "python3",
      "display_name": "Python 3"
    },
    "language_info": {
      "name": "python"
    }
  },
  "cells": [
    {
      "cell_type": "code",
      "execution_count": 1,
      "metadata": {
        "colab": {
          "base_uri": "https://localhost:8080/"
        },
        "id": "JbYnifkX3k80",
        "outputId": "c56e5144-25f8-4a7a-fe84-d7b33a4dd545"
      },
      "outputs": [
        {
          "output_type": "stream",
          "name": "stdout",
          "text": [
            "--2022-12-27 18:26:17--  https://gist.githubusercontent.com/NooblyRand0m/404c8a252f89862654c3fa6bba3d8bc3/raw/26c97aa3876ef33f3509e3b1209402c5c138f06c/coursera_week3_cars.csv\n",
            "Resolving gist.githubusercontent.com (gist.githubusercontent.com)... 185.199.111.133, 185.199.110.133, 185.199.108.133, ...\n",
            "Connecting to gist.githubusercontent.com (gist.githubusercontent.com)|185.199.111.133|:443... connected.\n",
            "HTTP request sent, awaiting response... 200 OK\n",
            "Length: 287 [text/plain]\n",
            "Saving to: ‘coursera_week3_cars.csv.24’\n",
            "\n",
            "\r          coursera_   0%[                    ]       0  --.-KB/s               \rcoursera_week3_cars 100%[===================>]     287  --.-KB/s    in 0s      \n",
            "\n",
            "2022-12-27 18:26:18 (11.8 MB/s) - ‘coursera_week3_cars.csv.24’ saved [287/287]\n",
            "\n"
          ]
        }
      ],
      "source": [
        "!wget https://gist.githubusercontent.com/NooblyRand0m/404c8a252f89862654c3fa6bba3d8bc3/raw/26c97aa3876ef33f3509e3b1209402c5c138f06c/coursera_week3_cars.csv"
      ]
    },
    {
      "cell_type": "code",
      "source": [
        "!head coursera_week3_cars.csv "
      ],
      "metadata": {
        "colab": {
          "base_uri": "https://localhost:8080/"
        },
        "id": "v9t4yGkh3ygH",
        "outputId": "13babd0d-8054-4538-88f6-f4f64590ff30"
      },
      "execution_count": 2,
      "outputs": [
        {
          "output_type": "stream",
          "name": "stdout",
          "text": [
            "car_type;brand;passenger_seats_count;photo_file_name;body_whl;carrying;extra\n",
            "car;Nissan xTtrail;4;f1.jpeg;;2.5;\n",
            "truck;Man;;f2.png;8x3x2.5;20;\n",
            "truck;Man;;f2.png;;20;\n",
            "car;Mazda 6;4;f3.jpeg;;2.5;\n",
            ";;;\n",
            "spec_machine;Hitachi;;f4;;1.2;Легкая техника для уборки снега\n",
            "\n"
          ]
        }
      ]
    },
    {
      "cell_type": "code",
      "source": [
        "!head coursera_week3_cars.scv"
      ],
      "metadata": {
        "colab": {
          "base_uri": "https://localhost:8080/"
        },
        "id": "PsZuY1JHet_N",
        "outputId": "31ce2ce9-9896-4e01-ba4e-c812afe8d6fe"
      },
      "execution_count": 3,
      "outputs": [
        {
          "output_type": "stream",
          "name": "stdout",
          "text": [
            "head: cannot open 'coursera_week3_cars.scv' for reading: No such file or directory\n"
          ]
        }
      ]
    },
    {
      "cell_type": "code",
      "source": [
        "import csv\n",
        "import os\n",
        "csv_filename = 'coursera_week3_cars.csv'\n",
        "\n",
        "with open(csv_filename) as csv_fd:\n",
        "    reader = csv.reader(csv_fd, delimiter=';')\n",
        "    next(reader)  # пропускаем заголовок\n",
        "    for row in reader:\n",
        "        print(row)"
      ],
      "metadata": {
        "colab": {
          "base_uri": "https://localhost:8080/"
        },
        "id": "noYykUL031LJ",
        "outputId": "919c3a01-c863-4d0d-ce65-ee519b402fa4"
      },
      "execution_count": 4,
      "outputs": [
        {
          "output_type": "stream",
          "name": "stdout",
          "text": [
            "['car', 'Nissan xTtrail', '4', 'f1.jpeg', '', '2.5', '']\n",
            "['truck', 'Man', '', 'f2.png', '8x3x2.5', '20', '']\n",
            "['truck', 'Man', '', 'f2.png', '', '20', '']\n",
            "['car', 'Mazda 6', '4', 'f3.jpeg', '', '2.5', '']\n",
            "['', '', '', '']\n",
            "['spec_machine', 'Hitachi', '', 'f4', '', '1.2', 'Легкая техника для уборки снега']\n",
            "[]\n"
          ]
        }
      ]
    },
    {
      "cell_type": "markdown",
      "source": [
        "Основной класс"
      ],
      "metadata": {
        "id": "ZSd5fI_1QzFq"
      }
    },
    {
      "cell_type": "code",
      "source": [
        "class CarBase:        \n",
        "  def __init__(self, brand, photo_file_name, carrying):\n",
        "    if not all(i != '' for i in (brand, photo_file_name, carrying)):\n",
        "      raise ValueError\n",
        "    self.brand = brand\n",
        "    self.photo_file_name = photo_file_name\n",
        "    self.carrying = carrying\n",
        "\n",
        "  def get_photo_file_ext(self):\n",
        "    i, ext = os.path.splitext(self.photo_file_name)\n",
        "    if ext not in ['.jpeg', '.jpg', '.png']:\n",
        "      raise ValueError\n",
        "    return ext"
      ],
      "metadata": {
        "id": "CUXFjbHMQziL"
      },
      "execution_count": 5,
      "outputs": []
    },
    {
      "cell_type": "markdown",
      "source": [
        "Легковой автомобиль"
      ],
      "metadata": {
        "id": "ab1aFjBXRClx"
      }
    },
    {
      "cell_type": "code",
      "source": [
        "class Car(CarBase):\n",
        "  car_type = 'car'\n",
        "  def __init__(self, brand, photo_file_name, carrying, passenger_seats_count):\n",
        "    super().__init__(brand, photo_file_name, carrying)\n",
        "    self.passenger_seats_count = int(passenger_seats_count)"
      ],
      "metadata": {
        "id": "Pkc3CPAARC6u"
      },
      "execution_count": 6,
      "outputs": []
    },
    {
      "cell_type": "markdown",
      "source": [
        "Грузовой автомобиль"
      ],
      "metadata": {
        "id": "KFLPGvSTRJx2"
      }
    },
    {
      "cell_type": "code",
      "source": [
        "class Truck(CarBase):   \n",
        "  car_type = 'truck'\n",
        "  def __init__(self, brand, photo_file_name, carrying, body_whl):\n",
        "    super().__init__(brand, photo_file_name, carrying)\n",
        "    try:\n",
        "      length, width, height = (float(c) for c in body_whl.split('x', 2))\n",
        "    except ValueError:\n",
        "      length, width, height = .0, .0, .0\n",
        "\n",
        "    self.body_length = length\n",
        "    self.body_width = width\n",
        "    self.body_height = height\n",
        "\n",
        "  def get_body_volume(self):\n",
        "    return self.body_width * self.body_height * self.body_length"
      ],
      "metadata": {
        "id": "12A5uOeeRKP5"
      },
      "execution_count": 7,
      "outputs": []
    },
    {
      "cell_type": "markdown",
      "source": [
        "Спецтехника"
      ],
      "metadata": {
        "id": "9a9V5OZaRSC6"
      }
    },
    {
      "cell_type": "code",
      "source": [
        "class SpecMachine(CarBase):\n",
        "  car_type = 'spec_machine'\n",
        "\n",
        "  def __init__(self, brand, photo_file_name, carrying, extra):\n",
        "    super().__init__(brand, photo_file_name, carrying)\n",
        "    if extra == '':\n",
        "      raise ValueError\n",
        "    self.extra = extra"
      ],
      "metadata": {
        "id": "g_5-_3slRUJL"
      },
      "execution_count": 8,
      "outputs": []
    },
    {
      "cell_type": "code",
      "source": [
        "def get_car_list(csv_filename):\n",
        "  with open(csv_filename) as csv_fd:\n",
        "    reader = csv.reader(csv_fd, delimiter=';')\n",
        "    next(reader)\n",
        "\n",
        "    car_list = []\n",
        "    cars = {\n",
        "      'car': lambda x: Car(x[1], x[3], x[5], x[2]),\n",
        "      'truck': lambda x: Truck(x[1], x[3], x[5], x[4]),\n",
        "      'spec_machine': lambda x: SpecMachine(x[1], x[3], x[5], x[6])}\n",
        "\n",
        "    for row in reader:\n",
        "      try:\n",
        "        car_type = row[0]\n",
        "        if car_type in cars:\n",
        "          car_list.append(cars[car_type](row))\n",
        "      except (ValueError, IndexError):\n",
        "        pass\n",
        "        \n",
        "  return car_list"
      ],
      "metadata": {
        "id": "m0HA96Gk4n-W"
      },
      "execution_count": 9,
      "outputs": []
    },
    {
      "cell_type": "markdown",
      "source": [
        "Базовые проверки"
      ],
      "metadata": {
        "id": "VNm4aH47Rj3p"
      }
    },
    {
      "cell_type": "code",
      "source": [
        "car = Car('Bugatti Veyron', 'bugatti.png', '0.312', '2')\n",
        "print(car.car_type, car.brand, car.photo_file_name, car.carrying, car.passenger_seats_count, sep='\\n')\n",
        "# car\n",
        "# Bugatti Veyron\n",
        "# bugatti.png\n",
        "# 0.312\n",
        "# 2"
      ],
      "metadata": {
        "colab": {
          "base_uri": "https://localhost:8080/"
        },
        "id": "NAnWiTuZQoVA",
        "outputId": "f2c45938-95ef-43c8-8392-639018a43302"
      },
      "execution_count": 10,
      "outputs": [
        {
          "output_type": "stream",
          "name": "stdout",
          "text": [
            "car\n",
            "Bugatti Veyron\n",
            "bugatti.png\n",
            "0.312\n",
            "2\n"
          ]
        }
      ]
    },
    {
      "cell_type": "code",
      "source": [
        "\n",
        "truck = Truck('Nissan', 'nissan.jpeg', '1.5', '3.92x2.09x1.87')\n",
        "print(truck.car_type, truck.brand, truck.photo_file_name, truck.body_length, truck.body_width, truck.body_height, sep='\\n')\n",
        "# truck\n",
        "# Nissan\n",
        "# nissan.jpeg\n",
        "# 3.92\n",
        "# 2.09\n",
        "# 1.87"
      ],
      "metadata": {
        "colab": {
          "base_uri": "https://localhost:8080/"
        },
        "id": "LgOv3PyDRrsH",
        "outputId": "6cbf8499-e861-48e4-f7b1-5f9633114d8f"
      },
      "execution_count": 11,
      "outputs": [
        {
          "output_type": "stream",
          "name": "stdout",
          "text": [
            "truck\n",
            "Nissan\n",
            "nissan.jpeg\n",
            "3.92\n",
            "2.09\n",
            "1.87\n"
          ]
        }
      ]
    },
    {
      "cell_type": "code",
      "source": [
        "\n",
        "spec_machine = SpecMachine('Komatsu-D355', 'd355.jpg', '93', 'pipelayer specs')\n",
        "print(spec_machine.car_type, spec_machine.brand, spec_machine.carrying, spec_machine.photo_file_name, spec_machine.extra, sep='\\n')\n",
        "# spec_machine\n",
        "# Komatsu-D355\n",
        "# 93.0\n",
        "# d355.jpg\n",
        "# pipelayer specs"
      ],
      "metadata": {
        "colab": {
          "base_uri": "https://localhost:8080/"
        },
        "id": "MugvAXnIRun-",
        "outputId": "83ba7d6d-e410-4118-caab-b5afba460245"
      },
      "execution_count": 12,
      "outputs": [
        {
          "output_type": "stream",
          "name": "stdout",
          "text": [
            "spec_machine\n",
            "Komatsu-D355\n",
            "93\n",
            "d355.jpg\n",
            "pipelayer specs\n"
          ]
        }
      ]
    },
    {
      "cell_type": "code",
      "source": [
        "spec_machine.get_photo_file_ext()\n",
        "# '.jpg'"
      ],
      "metadata": {
        "colab": {
          "base_uri": "https://localhost:8080/",
          "height": 35
        },
        "id": "vehouytQRzXf",
        "outputId": "c3392557-9622-4330-d48f-d6f68a23a035"
      },
      "execution_count": 13,
      "outputs": [
        {
          "output_type": "execute_result",
          "data": {
            "text/plain": [
              "'.jpg'"
            ],
            "application/vnd.google.colaboratory.intrinsic+json": {
              "type": "string"
            }
          },
          "metadata": {},
          "execution_count": 13
        }
      ]
    },
    {
      "cell_type": "code",
      "source": [
        "cars = get_car_list('coursera_week3_cars.csv')\n",
        "len(cars)\n",
        "# 4"
      ],
      "metadata": {
        "colab": {
          "base_uri": "https://localhost:8080/"
        },
        "id": "Wz0TOtG8R2WP",
        "outputId": "f2c74a29-b4ba-4ba6-b00b-73363a89e1a6"
      },
      "execution_count": 14,
      "outputs": [
        {
          "output_type": "execute_result",
          "data": {
            "text/plain": [
              "5"
            ]
          },
          "metadata": {},
          "execution_count": 14
        }
      ]
    },
    {
      "cell_type": "code",
      "source": [
        "print(cars)"
      ],
      "metadata": {
        "colab": {
          "base_uri": "https://localhost:8080/"
        },
        "id": "fZ3cak2oxegw",
        "outputId": "4d9b8a3a-7744-4cc8-bc54-834f99bc9e58"
      },
      "execution_count": 15,
      "outputs": [
        {
          "output_type": "stream",
          "name": "stdout",
          "text": [
            "[<__main__.Car object at 0x7f03d2546460>, <__main__.Truck object at 0x7f03d2546640>, <__main__.Truck object at 0x7f03d2546d00>, <__main__.Car object at 0x7f03d2546880>, <__main__.SpecMachine object at 0x7f03d25461f0>]\n"
          ]
        }
      ]
    },
    {
      "cell_type": "code",
      "source": [
        "cars[0].passenger_seats_count\n",
        "# 4"
      ],
      "metadata": {
        "colab": {
          "base_uri": "https://localhost:8080/"
        },
        "id": "GavvV4z7SRL4",
        "outputId": "49fe6e65-27b0-4fdd-e535-2c60af6070ea"
      },
      "execution_count": 16,
      "outputs": [
        {
          "output_type": "execute_result",
          "data": {
            "text/plain": [
              "4"
            ]
          },
          "metadata": {},
          "execution_count": 16
        }
      ]
    },
    {
      "cell_type": "code",
      "source": [
        "cars[1].get_body_volume()\n",
        "# 60.0"
      ],
      "metadata": {
        "colab": {
          "base_uri": "https://localhost:8080/"
        },
        "id": "Cjt2tnn4STSW",
        "outputId": "d4a55f21-8fec-48be-fbe5-5e99dbf8fb9a"
      },
      "execution_count": 17,
      "outputs": [
        {
          "output_type": "execute_result",
          "data": {
            "text/plain": [
              "60.0"
            ]
          },
          "metadata": {},
          "execution_count": 17
        }
      ]
    }
  ]
}