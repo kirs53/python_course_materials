{
  "nbformat": 4,
  "nbformat_minor": 0,
  "metadata": {
    "colab": {
      "provenance": []
    },
    "kernelspec": {
      "name": "python3",
      "display_name": "Python 3"
    },
    "language_info": {
      "name": "python"
    }
  },
  "cells": [
    {
      "cell_type": "code",
      "execution_count": 3,
      "metadata": {
        "colab": {
          "base_uri": "https://localhost:8080/"
        },
        "id": "-u-SgTy_eGzS",
        "outputId": "9a7535eb-f861-457f-c894-a41180c86dba"
      },
      "outputs": [
        {
          "output_type": "stream",
          "name": "stdout",
          "text": [
            "2\n"
          ]
        }
      ],
      "source": [
        "#0\n",
        "def lcd(a, b):\n",
        "    while a != b:\n",
        "        if a > b:\n",
        "            a = a - b\n",
        "        else:\n",
        "            b = b - a\n",
        "    print(a)\n",
        "lcd(10, 2)"
      ]
    },
    {
      "cell_type": "code",
      "source": [
        "#1\n",
        "def snake_case(stri):\n",
        "\tres = []\n",
        "\tfor i in range(len(stri)):\n",
        "\t\tif stri[i] in ('ABCDEFGHIJKLMNOPQRSTUVWXYZ'):\n",
        "\t\t\tres.append('_')\n",
        "\t\t\tres.append(stri[i].lower())\n",
        "\t\telse:\n",
        "\t\t\tres.append(stri[i])\n",
        "\treturn ''.join(res)\n",
        "\n",
        "print(snake_case('camelCaseVar'))"
      ],
      "metadata": {
        "colab": {
          "base_uri": "https://localhost:8080/"
        },
        "id": "MecInaN0eU7q",
        "outputId": "924dd67d-c08b-4e43-9664-9c7aee1c2c6c"
      },
      "execution_count": 21,
      "outputs": [
        {
          "output_type": "stream",
          "name": "stdout",
          "text": [
            "camel_case_var\n"
          ]
        }
      ]
    },
    {
      "cell_type": "code",
      "source": [
        "#2\n",
        "x = 0\n",
        "y = 0\n",
        "\n",
        "number_of_steps = int(input('Введите N: '))\n",
        "for i in range(number_of_steps):\n",
        "    movement = input(f'Ход {i + 1}: ')\n",
        "    direction, steps = movement.split()\n",
        "    if direction == 'Вверх':\n",
        "        y += int(steps)\n",
        "    if direction == 'Вниз':\n",
        "        y -= int(steps)\n",
        "    if direction == 'Вправо':\n",
        "        x += int(steps)\n",
        "    if direction == 'Влево':\n",
        "        x -= int(steps)\n",
        "print(f'Петр находится на расстоянии {abs(x) + abs(y)} от (0,0)')"
      ],
      "metadata": {
        "colab": {
          "base_uri": "https://localhost:8080/"
        },
        "id": "7k3M8Tuhe_q4",
        "outputId": "4f74ad59-3dd9-4747-81e1-220e1cfa1ca1"
      },
      "execution_count": 7,
      "outputs": [
        {
          "output_type": "stream",
          "name": "stdout",
          "text": [
            "Введите N: 3\n",
            "Ход 1: Вверх 1\n",
            "Ход 2: Вниз 1\n",
            "Ход 3: Вверх 1\n",
            "Петр находится на расстоянии 1 от (0,0)\n"
          ]
        }
      ]
    },
    {
      "cell_type": "code",
      "source": [
        "#3\n",
        "d_ = {\"tiramisu\":5, \"chocolate\":2, \"pudding\":3, \"cheesecake\":4}\n",
        "sorted_d_ = dict(sorted(d_.items()))\n",
        "for k,v in sorted_d_.items():\n",
        "    print('{}:{}'.format(k,v))"
      ],
      "metadata": {
        "colab": {
          "base_uri": "https://localhost:8080/"
        },
        "id": "C_u0pjNCleHX",
        "outputId": "b77e2ef3-5ebb-4ec3-c335-d9697d6320ff"
      },
      "execution_count": 8,
      "outputs": [
        {
          "output_type": "stream",
          "name": "stdout",
          "text": [
            "cheesecake:4\n",
            "chocolate:2\n",
            "pudding:3\n",
            "tiramisu:5\n"
          ]
        }
      ]
    },
    {
      "cell_type": "code",
      "source": [
        "#4\n",
        "def compare(x, y, z):\n",
        "    if x == y or x == z or y ==z:\n",
        "        print('True')\n",
        "    else:\n",
        "      print('False')\n",
        "compare(2, 2, 3)"
      ],
      "metadata": {
        "colab": {
          "base_uri": "https://localhost:8080/"
        },
        "id": "NngVt1eBmOcB",
        "outputId": "ac558e72-5ea5-462b-da36-04d3ff233016"
      },
      "execution_count": 13,
      "outputs": [
        {
          "output_type": "stream",
          "name": "stdout",
          "text": [
            "True\n"
          ]
        }
      ]
    },
    {
      "cell_type": "code",
      "source": [
        "#5\n",
        "lst = [(3,6),(4,7),(5,9),(8,4),(3,1)]\n",
        "\n",
        "for i in range(len(lst)):\n",
        "    for j in range((len(lst) - i - 1)):\n",
        "        if lst[j][0] + lst[j][1] > lst[j+1][0] + lst[j+1][1]:\n",
        "            lst[j], lst[j+1] = lst[j+1], lst[j]\n",
        "print(lst)"
      ],
      "metadata": {
        "colab": {
          "base_uri": "https://localhost:8080/"
        },
        "id": "koJ41bYJmkIh",
        "outputId": "248ee008-c115-4033-ccb9-d1e1c0e4dac7"
      },
      "execution_count": 14,
      "outputs": [
        {
          "output_type": "stream",
          "name": "stdout",
          "text": [
            "[(3, 1), (3, 6), (4, 7), (8, 4), (5, 9)]\n"
          ]
        }
      ]
    },
    {
      "cell_type": "code",
      "source": [
        "#6\n",
        "def findLargestNum(lst):\n",
        "    lst.sort(reverse=True)\n",
        "    print(lst[0])\n",
        "findLargestNum([1000, 1001, 857, 1])"
      ],
      "metadata": {
        "colab": {
          "base_uri": "https://localhost:8080/"
        },
        "id": "AyDfqyrInYXO",
        "outputId": "fec76c05-b4e6-474e-b594-66d5fde3070b"
      },
      "execution_count": 15,
      "outputs": [
        {
          "output_type": "stream",
          "name": "stdout",
          "text": [
            "1001\n"
          ]
        }
      ]
    },
    {
      "cell_type": "code",
      "source": [
        "#7\n",
        "def repeat(*lst):\n",
        "    first = lst[0]\n",
        "    last = lst[-1]\n",
        "    print(first * last)\n",
        "repeat(\"cherry\", 2)"
      ],
      "metadata": {
        "colab": {
          "base_uri": "https://localhost:8080/"
        },
        "id": "JfeCOugQms6d",
        "outputId": "99c1d953-0eec-467d-a77a-da6f6558009c"
      },
      "execution_count": 32,
      "outputs": [
        {
          "output_type": "stream",
          "name": "stdout",
          "text": [
            "cherrycherry\n"
          ]
        }
      ]
    },
    {
      "cell_type": "code",
      "source": [
        "#8\n",
        "def sum_minimums(lst):\n",
        "    summ = 0\n",
        "    for i in range(len(lst)):\n",
        "        lst[i].sort()\n",
        "        a = lst[i][0]\n",
        "        summ += a\n",
        "    print(summ)\n",
        "\n",
        "sum_minimums([\n",
        "  [2, 1, 3, 4, 5],\n",
        "  [5, 6, 7, 8, 9],\n",
        "  [20, 21, 34, 56, 100]\n",
        "])"
      ],
      "metadata": {
        "colab": {
          "base_uri": "https://localhost:8080/"
        },
        "id": "41NRqC95nuZ-",
        "outputId": "5ab95fd0-d160-4b37-8004-9ffc8b25343f"
      },
      "execution_count": 17,
      "outputs": [
        {
          "output_type": "stream",
          "name": "stdout",
          "text": [
            "26\n"
          ]
        }
      ]
    },
    {
      "cell_type": "code",
      "source": [
        "#9\n",
        "def potatoes(lst):\n",
        "    print(lst.count('potato'))\n",
        "\n",
        "potatoes(\"potatopotato\")"
      ],
      "metadata": {
        "colab": {
          "base_uri": "https://localhost:8080/"
        },
        "id": "KM0M_4q2n66A",
        "outputId": "144000a9-588e-4bbd-ff50-8059413bfb2b"
      },
      "execution_count": 18,
      "outputs": [
        {
          "output_type": "stream",
          "name": "stdout",
          "text": [
            "2\n"
          ]
        }
      ]
    },
    {
      "cell_type": "code",
      "source": [
        "#10\n",
        "def find_single_number(int_lst):\n",
        "    uni_ints = []\n",
        "    repeat_list = []\n",
        "    single_number = []\n",
        "    for i in range(len(int_lst)):\n",
        "        if int_lst[i] not in uni_ints:\n",
        "            uni_ints.append(int_lst[i])\n",
        "        elif int_lst[i] in uni_ints:\n",
        "            repeat_list.append(int_lst[i])\n",
        "    for j in range(len(uni_ints)):\n",
        "        if uni_ints[j] not in repeat_list:\n",
        "            single_number.append(uni_ints[j])\n",
        "    print(single_number[0])\n",
        "find_single_number([1, 2, 3, 6, 5, 4, 4, 2, 5, 3, 6, 1, 6, 5, 3, 2, 4, 1, 2, 5, 1, 4, 3, 6, 101, 4, 3, 1, 5, 6, 2])\n"
      ],
      "metadata": {
        "colab": {
          "base_uri": "https://localhost:8080/"
        },
        "id": "ZDANAd8yoAzN",
        "outputId": "4faf8624-b82c-48aa-c986-ea8967d9bebb"
      },
      "execution_count": 19,
      "outputs": [
        {
          "output_type": "stream",
          "name": "stdout",
          "text": [
            "101\n"
          ]
        }
      ]
    },
    {
      "cell_type": "code",
      "source": [
        "#11\n",
        "def forbidden_letter(a):\n",
        "    b = str(a[1])\n",
        "    c = True\n",
        "    for i in range(len(b)):\n",
        "        if a[0] in b:\n",
        "            c = False\n",
        "    print(c)\n",
        "forbidden_letter((\"r\", [\"rock\", \"paper\", \"scissors\"]))\n",
        "#гуглколлаб выдал ошибку 'str' object is not callable, в пайчарме работает корректно"
      ],
      "metadata": {
        "id": "Fu0TFlG6sxOQ"
      },
      "execution_count": null,
      "outputs": []
    },
    {
      "cell_type": "code",
      "source": [
        "#12\n",
        "def Pattern(num):\n",
        "    print('Input:', num,'\\n''Pattern:', '\\n')\n",
        "\n",
        "    for i in range(0, num + 1):\n",
        "        print(i, end='')\n",
        "\n",
        "    for j in range(0, num + 1):\n",
        "        if j == 0:\n",
        "            print('\\n''  | |     ', 0)\n",
        "        elif j % 2 != 0:\n",
        "            print(' -----    ', j)\n",
        "        elif j % 2 == 0:\n",
        "            print('  | |     ', j)\n",
        "\n",
        "Pattern(9)"
      ],
      "metadata": {
        "colab": {
          "base_uri": "https://localhost:8080/"
        },
        "id": "ox2VD9Poulj4",
        "outputId": "b33aec81-c344-495e-cdb7-750350307fbb"
      },
      "execution_count": 31,
      "outputs": [
        {
          "output_type": "stream",
          "name": "stdout",
          "text": [
            "Input: 9 \n",
            "Pattern: \n",
            "\n",
            "0123456789\n",
            "  | |      0\n",
            " -----     1\n",
            "  | |      2\n",
            " -----     3\n",
            "  | |      4\n",
            " -----     5\n",
            "  | |      6\n",
            " -----     7\n",
            "  | |      8\n",
            " -----     9\n"
          ]
        }
      ]
    },
    {
      "cell_type": "code",
      "source": [
        "#13\n",
        "def is_triangle(a, b, c):\n",
        "    if a + b > c and a + c > b and b + c > a:\n",
        "        print(True)\n",
        "    else:\n",
        "        print(False)\n",
        "is_triangle(2, 3, 4)"
      ],
      "metadata": {
        "colab": {
          "base_uri": "https://localhost:8080/"
        },
        "id": "DcuBlzIL1DDD",
        "outputId": "906ac56f-6e1b-4fc9-8e3d-07231fab54fe"
      },
      "execution_count": 34,
      "outputs": [
        {
          "output_type": "stream",
          "name": "stdout",
          "text": [
            "True\n"
          ]
        }
      ]
    },
    {
      "cell_type": "code",
      "source": [
        "#14\n",
        "def decoder(shift, coded_word):\n",
        "    coded_word = coded_word.lower()\n",
        "    abc = 26\n",
        "    for i in range(len(coded_word)):\n",
        "        word = ord(coded_word[i]) - shift\n",
        "        if word < 97:\n",
        "            word += abc\n",
        "        print(chr(word), end='')\n",
        "a = int(input('Введите сдвиг: '))\n",
        "b = input('Введите закодированное слово: ')\n",
        "decoder(a, b)"
      ],
      "metadata": {
        "colab": {
          "base_uri": "https://localhost:8080/"
        },
        "id": "rE86oj2255NT",
        "outputId": "3c645a67-10b8-41dc-c872-79c4143d712c"
      },
      "execution_count": 35,
      "outputs": [
        {
          "output_type": "stream",
          "name": "stdout",
          "text": [
            "Введите сдвиг: 1\n",
            "Введите закодированное слово: Qzuipo\n",
            "python"
          ]
        }
      ]
    }
  ]
}