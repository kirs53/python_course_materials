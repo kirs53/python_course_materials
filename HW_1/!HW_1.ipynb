{
  "nbformat": 4,
  "nbformat_minor": 0,
  "metadata": {
    "colab": {
      "provenance": []
    },
    "kernelspec": {
      "name": "python3",
      "display_name": "Python 3"
    },
    "language_info": {
      "name": "python"
    }
  },
  "cells": [
    {
      "cell_type": "code",
      "execution_count": 25,
      "metadata": {
        "colab": {
          "base_uri": "https://localhost:8080/"
        },
        "id": "-u-SgTy_eGzS",
        "outputId": "801b72e4-c02d-44a3-c4fb-bf0e4c9674e8"
      },
      "outputs": [
        {
          "output_type": "stream",
          "name": "stdout",
          "text": [
            "2\n"
          ]
        }
      ],
      "source": [
        "#0\n",
        "def lcd(a, b):\n",
        "    while a != b:\n",
        "        if a > b:\n",
        "            a = a - b\n",
        "        else:\n",
        "            b = b - a\n",
        "    print(a)\n",
        "lcd(10, 2)"
      ]
    },
    {
      "cell_type": "code",
      "source": [
        "#1\n",
        "def snake_case(stri):\n",
        "    res = []\n",
        "    for i in range(len(stri)):\n",
        "        if stri[i] in ('ABCDEFGHIJKLMNOPQRSTUVWXYZ'):\n",
        "            res.append('_')\n",
        "            res.append(stri[i].lower())\n",
        "        else:\n",
        "            res.append(stri[i])\n",
        "    return ''.join(res)\n",
        "\n",
        "print(snake_case('camelCaseVar'))"
      ],
      "metadata": {
        "colab": {
          "base_uri": "https://localhost:8080/"
        },
        "id": "MecInaN0eU7q",
        "outputId": "a7c7b036-ba7c-4460-f672-6ceb088f11c1"
      },
      "execution_count": 26,
      "outputs": [
        {
          "output_type": "stream",
          "name": "stdout",
          "text": [
            "camel_case_var\n"
          ]
        }
      ]
    },
    {
      "cell_type": "code",
      "source": [
        "#2\n",
        "x = 0\n",
        "y = 0\n",
        "number_of_steps = int(input('Введите N: '))\n",
        "\n",
        "for i in range(number_of_steps):\n",
        "    movement = input(f'Ход {i + 1}: ')\n",
        "    direction, steps = movement.split()\n",
        "    if direction == 'Вверх':\n",
        "        y += int(steps)\n",
        "    if direction == 'Вниз':\n",
        "        y -= int(steps)\n",
        "    if direction == 'Вправо':\n",
        "        x += int(steps)\n",
        "    if direction == 'Влево':\n",
        "        x -= int(steps)\n",
        "print('Петр находится на расстоянии', abs(x) + abs(y), 'от (0,0)')"
      ],
      "metadata": {
        "colab": {
          "base_uri": "https://localhost:8080/"
        },
        "id": "7k3M8Tuhe_q4",
        "outputId": "929c03a2-4e3a-4d43-9dd1-27496878fa17"
      },
      "execution_count": 42,
      "outputs": [
        {
          "output_type": "stream",
          "name": "stdout",
          "text": [
            "Введите N: 4\n",
            "Ход 1: Вверх 1\n",
            "Ход 2: Вниз 1\n",
            "Ход 3: Вверх 1\n",
            "Ход 4: Влево 1\n",
            "Петр находится на расстоянии 2 от (0,0)\n"
          ]
        }
      ]
    },
    {
      "cell_type": "code",
      "source": [
        "#3\n",
        "d_ = {\"tiramisu\":5, \"chocolate\":2, \"pudding\":3, \"cheesecake\":4}\n",
        "sorted_d_ = dict(sorted(d_.items()))\n",
        "for k,v in sorted_d_.items():\n",
        "    print('{}:{}'.format(k,v))"
      ],
      "metadata": {
        "colab": {
          "base_uri": "https://localhost:8080/"
        },
        "id": "C_u0pjNCleHX",
        "outputId": "5f96a247-6f15-4b48-dd4b-f581a853f331"
      },
      "execution_count": 28,
      "outputs": [
        {
          "output_type": "stream",
          "name": "stdout",
          "text": [
            "cheesecake:4\n",
            "chocolate:2\n",
            "pudding:3\n",
            "tiramisu:5\n"
          ]
        }
      ]
    },
    {
      "cell_type": "code",
      "source": [
        "#4\n",
        "def compare(x, y, z):\n",
        "    a = False\n",
        "    if x == y or x == z or y == z:\n",
        "        a = True\n",
        "    print(a)\n",
        "compare(1, 2, 3)\n",
        "compare(2, 2, 3)"
      ],
      "metadata": {
        "colab": {
          "base_uri": "https://localhost:8080/"
        },
        "id": "NngVt1eBmOcB",
        "outputId": "4851bfd0-fffa-4f17-8b05-2de4bd8cbc5c"
      },
      "execution_count": 29,
      "outputs": [
        {
          "output_type": "stream",
          "name": "stdout",
          "text": [
            "False\n",
            "True\n"
          ]
        }
      ]
    },
    {
      "cell_type": "code",
      "source": [
        "#5\n",
        "lst = [(3,6),(4,7),(5,9),(8,4),(3,1)]\n",
        "\n",
        "for i in range(len(lst)):\n",
        "    for j in range((len(lst) - i - 1)):\n",
        "        if lst[j][0] + lst[j][1] > lst[j+1][0] + lst[j+1][1]:\n",
        "            lst[j], lst[j+1] = lst[j+1], lst[j]\n",
        "print(lst)"
      ],
      "metadata": {
        "colab": {
          "base_uri": "https://localhost:8080/"
        },
        "id": "koJ41bYJmkIh",
        "outputId": "4ed62fd2-480e-4d74-8e67-d546d2b8220a"
      },
      "execution_count": 30,
      "outputs": [
        {
          "output_type": "stream",
          "name": "stdout",
          "text": [
            "[(3, 1), (3, 6), (4, 7), (8, 4), (5, 9)]\n"
          ]
        }
      ]
    },
    {
      "cell_type": "code",
      "source": [
        "#6\n",
        "def findLargestNum(lst):\n",
        "    lst.sort(reverse=True)\n",
        "    print(lst[0])\n",
        "findLargestNum([1000, 1001, 857, 1])\n",
        "findLargestNum([4, 5, 1, 3])"
      ],
      "metadata": {
        "colab": {
          "base_uri": "https://localhost:8080/"
        },
        "id": "AyDfqyrInYXO",
        "outputId": "eb42182e-8c26-483d-e3a7-6f305ce9e2e2"
      },
      "execution_count": 31,
      "outputs": [
        {
          "output_type": "stream",
          "name": "stdout",
          "text": [
            "1001\n",
            "5\n"
          ]
        }
      ]
    },
    {
      "cell_type": "code",
      "source": [
        "#7\n",
        "def repetition(*lst):\n",
        "    first = lst[0]\n",
        "    last = lst[-1]\n",
        "    print(first * last)\n",
        "repetition(\"cherry\", 2)\n",
        "repetition(\"ab\", 3)"
      ],
      "metadata": {
        "colab": {
          "base_uri": "https://localhost:8080/"
        },
        "id": "JfeCOugQms6d",
        "outputId": "da5c54fa-944c-47f5-df53-0c658c244ec4"
      },
      "execution_count": 32,
      "outputs": [
        {
          "output_type": "stream",
          "name": "stdout",
          "text": [
            "cherrycherry\n",
            "ababab\n"
          ]
        }
      ]
    },
    {
      "cell_type": "code",
      "source": [
        "#8\n",
        "def sum_minimums(lst):\n",
        "    summ = 0\n",
        "    for i in range(len(lst)):\n",
        "        lst[i].sort()\n",
        "        summ += lst[i][0]\n",
        "    print(summ)\n",
        "\n",
        "sum_minimums([\n",
        "  [2, 1, 3, 4, 5],\n",
        "  [5, 6, 7, 8, 9],\n",
        "  [20, 21, 34, 56, 100]\n",
        "])"
      ],
      "metadata": {
        "colab": {
          "base_uri": "https://localhost:8080/"
        },
        "id": "41NRqC95nuZ-",
        "outputId": "72b8c172-867e-4660-9d0e-069002ec96b6"
      },
      "execution_count": 33,
      "outputs": [
        {
          "output_type": "stream",
          "name": "stdout",
          "text": [
            "26\n"
          ]
        }
      ]
    },
    {
      "cell_type": "code",
      "source": [
        "#9\n",
        "def potatoes(lst):\n",
        "    print(lst.count('potato'))\n",
        "\n",
        "potatoes(\"potatopotato\")"
      ],
      "metadata": {
        "colab": {
          "base_uri": "https://localhost:8080/"
        },
        "id": "KM0M_4q2n66A",
        "outputId": "7ea9c270-8e54-43f5-cde9-07f99b00bffd"
      },
      "execution_count": 34,
      "outputs": [
        {
          "output_type": "stream",
          "name": "stdout",
          "text": [
            "2\n"
          ]
        }
      ]
    },
    {
      "cell_type": "code",
      "source": [
        "#10\n",
        "def find_single_number(int_lst):\n",
        "    uni_ints = []\n",
        "    repeat_list = []\n",
        "    single_number = []\n",
        "\n",
        "    for i in range(len(int_lst)):\n",
        "        if int_lst[i] not in uni_ints:\n",
        "            uni_ints.append(int_lst[i])\n",
        "        elif int_lst[i] in uni_ints:\n",
        "            repeat_list.append(int_lst[i])\n",
        "    for j in range(len(uni_ints)):\n",
        "        if uni_ints[j] not in repeat_list:\n",
        "            single_number.append(uni_ints[j])\n",
        "            \n",
        "    if single_number == []:\n",
        "        print(None)\n",
        "    else:\n",
        "        print(single_number[0])\n",
        "\n",
        "find_single_number([])\n",
        "find_single_number([1, 2, 3, 6, 5, 4, 4, 2, 5, 3, 6, 1, 6, 5, 3, 2, 4, 1, 2, 5, 1, 4, 3, 6, 101, 4, 3, 1, 5, 6, 2])"
      ],
      "metadata": {
        "colab": {
          "base_uri": "https://localhost:8080/"
        },
        "id": "ZDANAd8yoAzN",
        "outputId": "78c98219-7444-414c-8a0e-1298c6f43edf"
      },
      "execution_count": 35,
      "outputs": [
        {
          "output_type": "stream",
          "name": "stdout",
          "text": [
            "None\n",
            "101\n"
          ]
        }
      ]
    },
    {
      "cell_type": "code",
      "source": [
        "#11\n",
        "def forbidden_letter(a):\n",
        "    b = str(a[1])\n",
        "    c = True\n",
        "    for i in range(len(b)):\n",
        "        if a[0] in b:\n",
        "            c = False\n",
        "    print(c)\n",
        "    \n",
        "forbidden_letter((\"r\", [\"rock\", \"paper\", \"scissors\"]))\n",
        "forbidden_letter((\"a\", [\"spoon\", \"fork\", \"knife\"]))"
      ],
      "metadata": {
        "id": "Fu0TFlG6sxOQ",
        "colab": {
          "base_uri": "https://localhost:8080/"
        },
        "outputId": "5b495290-0d96-455c-d264-fdb273ff6d76"
      },
      "execution_count": 36,
      "outputs": [
        {
          "output_type": "stream",
          "name": "stdout",
          "text": [
            "False\n",
            "True\n"
          ]
        }
      ]
    },
    {
      "cell_type": "code",
      "source": [
        "#12\n",
        "def Pattern(num):\n",
        "    print('Input:', num,'\\n''Pattern:''\\n')\n",
        "\n",
        "    for i in range(0, num + 1):\n",
        "        print(i, end='')\n",
        "\n",
        "    for j in range(0, num + 1):\n",
        "        if j == 0:\n",
        "            print('\\n''  | |     ', 0)\n",
        "        elif j % 2 != 0:\n",
        "            print(' -----    ', j)\n",
        "        elif j % 2 == 0:\n",
        "            print('  | |     ', j)\n",
        "\n",
        "Pattern(9)"
      ],
      "metadata": {
        "colab": {
          "base_uri": "https://localhost:8080/"
        },
        "id": "ox2VD9Poulj4",
        "outputId": "9111676f-39b4-4582-a5c8-d8130f6adba9"
      },
      "execution_count": 45,
      "outputs": [
        {
          "output_type": "stream",
          "name": "stdout",
          "text": [
            "Input: 9 \n",
            "Pattern:\n",
            "\n",
            "0123456789\n",
            "  | |      0\n",
            " -----     1\n",
            "  | |      2\n",
            " -----     3\n",
            "  | |      4\n",
            " -----     5\n",
            "  | |      6\n",
            " -----     7\n",
            "  | |      8\n",
            " -----     9\n"
          ]
        }
      ]
    },
    {
      "cell_type": "code",
      "source": [
        "#13\n",
        "def is_triangle(a, b, c):\n",
        "    flag = False\n",
        "    if a + b > c and a + c > b and b + c > a:\n",
        "        flag = True\n",
        "    print(flag)\n",
        "is_triangle(2, 3, 4)"
      ],
      "metadata": {
        "colab": {
          "base_uri": "https://localhost:8080/"
        },
        "id": "DcuBlzIL1DDD",
        "outputId": "b89b991d-daad-416c-fad1-1a9a88460bc3"
      },
      "execution_count": 43,
      "outputs": [
        {
          "output_type": "stream",
          "name": "stdout",
          "text": [
            "True\n"
          ]
        }
      ]
    },
    {
      "cell_type": "code",
      "source": [
        "#14\n",
        "def decoder(shift, coded_word):\n",
        "    coded_word = coded_word.lower()\n",
        "    abc = 26\n",
        "    for i in range(len(coded_word)):\n",
        "        word = ord(coded_word[i]) - int(shift)\n",
        "        if word < 97:\n",
        "            word += abc\n",
        "        print(chr(word), end='')\n",
        "a = int(input('Введите сдвиг: '))\n",
        "b = input('Введите закодированное слово: ')\n",
        "decoder(a, b)"
      ],
      "metadata": {
        "colab": {
          "base_uri": "https://localhost:8080/"
        },
        "id": "rE86oj2255NT",
        "outputId": "a8e7d7b8-a49e-4c0a-bebe-8d18b84abcef"
      },
      "execution_count": 44,
      "outputs": [
        {
          "output_type": "stream",
          "name": "stdout",
          "text": [
            "Введите сдвиг: 1\n",
            "Введите закодированное слово: Qzuipo\n",
            "python"
          ]
        }
      ]
    }
  ]
}